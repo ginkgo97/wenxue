{
 "cells": [
  {
   "cell_type": "code",
   "execution_count": 1,
   "metadata": {},
   "outputs": [],
   "source": [
    "from gensim.models import Word2Vec\n",
    "\n",
    "def get_result(result):\n",
    "  if result:\n",
    "      for distance in result:\n",
    "        print (distance[0], \"\\t\", distance[1])\n",
    "        \n",
    "model = Word2Vec.load(\"model/金瓶梅.model\")"
   ]
  },
  {
   "cell_type": "code",
   "execution_count": 2,
   "metadata": {},
   "outputs": [
    {
     "name": "stdout",
     "output_type": "stream",
     "text": [
      "孟玉楼 \t 0.9992923140525818\n",
      "吴月娘 \t 0.9968578815460205\n",
      "李娇儿 \t 0.9962125420570374\n",
      "李瓶儿 \t 0.9941150546073914\n",
      "玉箫 \t 0.9863290190696716\n",
      "屋里 \t 0.9841687083244324\n",
      "房里 \t 0.9839107394218445\n",
      "大姐 \t 0.9824092984199524\n",
      "小玉 \t 0.9701352119445801\n",
      "孙雪娥 \t 0.9647384285926819\n",
      "后边 \t 0.9577675461769104\n",
      "丫头 \t 0.9557962417602539\n",
      "房中 \t 0.9469956755638123\n",
      "亭子 \t 0.9463757276535034\n",
      "姐姐 \t 0.9457614421844482\n",
      "春梅 \t 0.9454466700553894\n",
      "妗子 \t 0.9375019073486328\n",
      "迎春 \t 0.9290485978126526\n",
      "奴才 \t 0.9253798127174377\n",
      "前边 \t 0.9231874942779541\n"
     ]
    }
   ],
   "source": [
    "result = model.most_similar(u\"潘金莲\",topn=20)\n",
    "get_result(result)"
   ]
  },
  {
   "cell_type": "code",
   "execution_count": null,
   "metadata": {},
   "outputs": [],
   "source": [
    "result = model.most_similar(positive=u\"西门庆 陈敬济\".split(\" \"), negative=u\"潘金莲\".split(\" \"),topn=5)\n",
    "get_result(result)"
   ]
  }
 ],
 "metadata": {
  "kernelspec": {
   "display_name": "Python 3",
   "language": "python",
   "name": "python3"
  },
  "language_info": {
   "codemirror_mode": {
    "name": "ipython",
    "version": 3
   },
   "file_extension": ".py",
   "mimetype": "text/x-python",
   "name": "python",
   "nbconvert_exporter": "python",
   "pygments_lexer": "ipython3",
   "version": "3.5.2"
  },
  "toc": {
   "colors": {
    "hover_highlight": "#DAA520",
    "navigate_num": "#000000",
    "navigate_text": "#333333",
    "running_highlight": "#FF0000",
    "selected_highlight": "#FFD700",
    "sidebar_border": "#EEEEEE",
    "wrapper_background": "#FFFFFF"
   },
   "moveMenuLeft": true,
   "nav_menu": {
    "height": "12px",
    "width": "252px"
   },
   "navigate_menu": true,
   "number_sections": true,
   "sideBar": true,
   "threshold": 4,
   "toc_cell": false,
   "toc_section_display": "block",
   "toc_window_display": false,
   "widenNotebook": false
  },
  "varInspector": {
   "cols": {
    "lenName": 16,
    "lenType": 16,
    "lenVar": 40
   },
   "kernels_config": {
    "python": {
     "delete_cmd_postfix": "",
     "delete_cmd_prefix": "del ",
     "library": "var_list.py",
     "varRefreshCmd": "print(var_dic_list())"
    },
    "r": {
     "delete_cmd_postfix": ") ",
     "delete_cmd_prefix": "rm(",
     "library": "var_list.r",
     "varRefreshCmd": "cat(var_dic_list()) "
    }
   },
   "types_to_exclude": [
    "module",
    "function",
    "builtin_function_or_method",
    "instance",
    "_Feature"
   ],
   "window_display": false
  }
 },
 "nbformat": 4,
 "nbformat_minor": 2
}
