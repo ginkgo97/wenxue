{
 "cells": [
  {
   "cell_type": "code",
   "execution_count": 46,
   "metadata": {},
   "outputs": [],
   "source": [
    "from gensim.models import Word2Vec\n",
    "\n",
    "def get_result(result):\n",
    "  if result:\n",
    "      for distance in result:\n",
    "        print (distance[0], \"\\t\", distance[1])\n",
    "        \n",
    "model = Word2Vec.load(\"金瓶梅.model\")"
   ]
  },
  {
   "cell_type": "code",
   "execution_count": 47,
   "metadata": {},
   "outputs": [
    {
     "name": "stdout",
     "output_type": "stream",
     "text": [
      "孟玉楼 \t 0.997943103313446\n",
      "吴月娘 \t 0.9903457164764404\n",
      "李瓶儿 \t 0.98670893907547\n",
      "李娇儿 \t 0.9851032495498657\n",
      "玉箫 \t 0.9850081205368042\n",
      "屋里 \t 0.9848909378051758\n",
      "大姐 \t 0.980557918548584\n",
      "房里 \t 0.9794507622718811\n",
      "小玉 \t 0.977784276008606\n",
      "丫头 \t 0.9731200933456421\n",
      "孙雪娥 \t 0.968010663986206\n",
      "春梅 \t 0.9509751200675964\n",
      "后边 \t 0.9324533939361572\n",
      "姐姐 \t 0.9256836771965027\n",
      "秋菊 \t 0.9204010963439941\n",
      "奴才 \t 0.9196797013282776\n",
      "房中 \t 0.9180504083633423\n",
      "迎春 \t 0.9047043919563293\n",
      "孩子 \t 0.9046772122383118\n",
      "妗子 \t 0.903677225112915\n"
     ]
    }
   ],
   "source": [
    "result = model.most_similar(u\"潘金莲\",topn=20)\n",
    "get_result(result)"
   ]
  },
  {
   "cell_type": "code",
   "execution_count": null,
   "metadata": {},
   "outputs": [],
   "source": [
    "result = model.most_similar(positive=u\"西门庆 陈敬济\".split(\" \"), negative=u\"潘金莲\".split(\" \"),topn=5)\n",
    "get_result(result)"
   ]
  }
 ],
 "metadata": {
  "kernelspec": {
   "display_name": "Python 3",
   "language": "python",
   "name": "python3"
  },
  "language_info": {
   "codemirror_mode": {
    "name": "ipython",
    "version": 3
   },
   "file_extension": ".py",
   "mimetype": "text/x-python",
   "name": "python",
   "nbconvert_exporter": "python",
   "pygments_lexer": "ipython3",
   "version": "3.5.2"
  },
  "toc": {
   "colors": {
    "hover_highlight": "#DAA520",
    "navigate_num": "#000000",
    "navigate_text": "#333333",
    "running_highlight": "#FF0000",
    "selected_highlight": "#FFD700",
    "sidebar_border": "#EEEEEE",
    "wrapper_background": "#FFFFFF"
   },
   "moveMenuLeft": true,
   "nav_menu": {
    "height": "12px",
    "width": "252px"
   },
   "navigate_menu": true,
   "number_sections": true,
   "sideBar": true,
   "threshold": 4,
   "toc_cell": false,
   "toc_section_display": "block",
   "toc_window_display": false,
   "widenNotebook": false
  },
  "varInspector": {
   "cols": {
    "lenName": 16,
    "lenType": 16,
    "lenVar": 40
   },
   "kernels_config": {
    "python": {
     "delete_cmd_postfix": "",
     "delete_cmd_prefix": "del ",
     "library": "var_list.py",
     "varRefreshCmd": "print(var_dic_list())"
    },
    "r": {
     "delete_cmd_postfix": ") ",
     "delete_cmd_prefix": "rm(",
     "library": "var_list.r",
     "varRefreshCmd": "cat(var_dic_list()) "
    }
   },
   "types_to_exclude": [
    "module",
    "function",
    "builtin_function_or_method",
    "instance",
    "_Feature"
   ],
   "window_display": false
  }
 },
 "nbformat": 4,
 "nbformat_minor": 2
}
