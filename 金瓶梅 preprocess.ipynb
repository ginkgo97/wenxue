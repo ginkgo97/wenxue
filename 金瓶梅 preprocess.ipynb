{
 "cells": [
  {
   "cell_type": "code",
   "execution_count": null,
   "metadata": {},
   "outputs": [],
   "source": [
    "file = open(\"金瓶梅.jieba.txt\", 'r')\n",
    "text = file.read()\n",
    "file.close()\n",
    "\n",
    "file = open(\"stop_words.txt\", 'r')\n",
    "stop_words = file.read()\n",
    "file.close()\n",
    "\n",
    "file = open(\"金瓶梅人物.dict\", 'r')\n",
    "characters = file.read()\n",
    "file.close()"
   ]
  },
  {
   "cell_type": "code",
   "execution_count": null,
   "metadata": {},
   "outputs": [],
   "source": [
    "# 去除 stopwords 和 去除 单字节\n",
    "import re\n",
    "\n",
    "text_list1 = text.split(\" \")\n",
    "stop_words_list = stop_words.split(\"\\n\")\n",
    "character_list = characters.split(\"\\n\")\n",
    "final_text_list = ''\n",
    "\n",
    "for seg in text_list1:\n",
    "    if not ((seg in stop_words_list) or re.search(r\"^\\S$\", seg)): # 不在stopwords_list, 同时不是单字节\n",
    "            final_text_list += seg\n",
    "            final_text_list += \" \""
   ]
  },
  {
   "cell_type": "code",
   "execution_count": null,
   "metadata": {},
   "outputs": [],
   "source": [
    "file = open(\"金瓶梅.jieba.after_stop_words.txt\", 'wt')\n",
    "file.write(final_text_list)\n",
    "file.close()"
   ]
  },
  {
   "cell_type": "code",
   "execution_count": null,
   "metadata": {},
   "outputs": [],
   "source": [
    "text_list2 = final_text_list.split(\" \")\n",
    "import pandas as pd\n",
    "import numpy\n",
    "\n",
    "a = pd.DataFrame(text_list2, columns=['人物'])\n",
    "c = a.groupby('人物')['人物'].agg({'出场次数':numpy.size}).reset_index()\n",
    "d = c.sort_values('出场次数', ascending=False)"
   ]
  },
  {
   "cell_type": "code",
   "execution_count": null,
   "metadata": {},
   "outputs": [],
   "source": [
    "people1 = pd.DataFrame()\n",
    "people1 = d[d['人物'].isin(character_list)]\n",
    "people1['出场次数'] = people1['出场次数'].astype('uint16')"
   ]
  },
  {
   "cell_type": "code",
   "execution_count": null,
   "metadata": {},
   "outputs": [],
   "source": [
    "people2.head(20)"
   ]
  }
 ],
 "metadata": {
  "kernelspec": {
   "display_name": "Python 3",
   "language": "python",
   "name": "python3"
  },
  "language_info": {
   "codemirror_mode": {
    "name": "ipython",
    "version": 3
   },
   "file_extension": ".py",
   "mimetype": "text/x-python",
   "name": "python",
   "nbconvert_exporter": "python",
   "pygments_lexer": "ipython3",
   "version": "3.5.2"
  },
  "toc": {
   "colors": {
    "hover_highlight": "#DAA520",
    "navigate_num": "#000000",
    "navigate_text": "#333333",
    "running_highlight": "#FF0000",
    "selected_highlight": "#FFD700",
    "sidebar_border": "#EEEEEE",
    "wrapper_background": "#FFFFFF"
   },
   "moveMenuLeft": true,
   "nav_menu": {
    "height": "12px",
    "width": "252px"
   },
   "navigate_menu": true,
   "number_sections": true,
   "sideBar": true,
   "threshold": 4,
   "toc_cell": false,
   "toc_section_display": "block",
   "toc_window_display": false,
   "widenNotebook": false
  },
  "varInspector": {
   "cols": {
    "lenName": 16,
    "lenType": 16,
    "lenVar": 40
   },
   "kernels_config": {
    "python": {
     "delete_cmd_postfix": "",
     "delete_cmd_prefix": "del ",
     "library": "var_list.py",
     "varRefreshCmd": "print(var_dic_list())"
    },
    "r": {
     "delete_cmd_postfix": ") ",
     "delete_cmd_prefix": "rm(",
     "library": "var_list.r",
     "varRefreshCmd": "cat(var_dic_list()) "
    }
   },
   "types_to_exclude": [
    "module",
    "function",
    "builtin_function_or_method",
    "instance",
    "_Feature"
   ],
   "window_display": false
  }
 },
 "nbformat": 4,
 "nbformat_minor": 2
}
